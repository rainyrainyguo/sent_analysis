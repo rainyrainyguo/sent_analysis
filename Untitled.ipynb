{
 "cells": [
  {
   "cell_type": "code",
   "execution_count": 19,
   "metadata": {},
   "outputs": [],
   "source": [
    "import torch\n",
    "from torchtext import data\n",
    "import numpy as np\n",
    "import pandas as pd\n",
    "import torch.nn as nn\n",
    "import torch.nn.functional as F\n",
    "\n",
    "JewelryTEXT = data.Field(tokenize='spacy')\n",
    "JewelryLABEL = data.LabelField(tensor_type=torch.FloatTensor)\n",
    "Jewelrytrain  = data.TabularDataset.splits(\n",
    "        path='../stanford-corenlp-full-2018-10-05/stanfordSentimentTreebank/', \n",
    "        train='stanford-sentiment-treebank.train.tsv',\n",
    "        format='tsv',\n",
    "        fields=[('Text', JewelryTEXT),('Label', JewelryLABEL)])[0]\n",
    "JewelryTEXT.build_vocab(Jewelrytrain, max_size=100000, vectors=\"glove.6B.300d\",min_freq=1)\n",
    "JewelryLABEL.build_vocab(Jewelrytrain)"
   ]
  },
  {
   "cell_type": "code",
   "execution_count": 20,
   "metadata": {},
   "outputs": [],
   "source": [
    "trainvocab=JewelryTEXT.vocab.itos"
   ]
  },
  {
   "cell_type": "code",
   "execution_count": 21,
   "metadata": {},
   "outputs": [],
   "source": [
    "JewelryTEXT = data.Field(tokenize='spacy')\n",
    "JewelryLABEL = data.LabelField(tensor_type=torch.FloatTensor)\n",
    "Jewelrytrain  = data.TabularDataset.splits(\n",
    "        path='../stanford-corenlp-full-2018-10-05/stanfordSentimentTreebank/', \n",
    "        train='stanford-sentiment-treebank.test.tsv',\n",
    "        format='tsv',\n",
    "        fields=[('Text', JewelryTEXT),('Label', JewelryLABEL)])[0]\n",
    "JewelryTEXT.build_vocab(Jewelrytrain, max_size=100000, vectors=\"glove.6B.300d\",min_freq=1)\n",
    "JewelryLABEL.build_vocab(Jewelrytrain)"
   ]
  },
  {
   "cell_type": "code",
   "execution_count": 22,
   "metadata": {},
   "outputs": [],
   "source": [
    "testvocab=JewelryTEXT.vocab.itos"
   ]
  },
  {
   "cell_type": "code",
   "execution_count": 23,
   "metadata": {},
   "outputs": [],
   "source": [
    "JewelryTEXT = data.Field(tokenize='spacy')\n",
    "JewelryLABEL = data.LabelField(tensor_type=torch.FloatTensor)\n",
    "Jewelrytrain  = data.TabularDataset.splits(\n",
    "        path='../stanford-corenlp-full-2018-10-05/stanfordSentimentTreebank/', \n",
    "        train='stanford-sentiment-treebank.dev.tsv',\n",
    "        format='tsv',\n",
    "        fields=[('Text', JewelryTEXT),('Label', JewelryLABEL)])[0]\n",
    "JewelryTEXT.build_vocab(Jewelrytrain, max_size=100000, vectors=\"glove.6B.300d\",min_freq=1)\n",
    "JewelryLABEL.build_vocab(Jewelrytrain)"
   ]
  },
  {
   "cell_type": "code",
   "execution_count": 24,
   "metadata": {},
   "outputs": [],
   "source": [
    "devvocab=JewelryTEXT.vocab.itos"
   ]
  },
  {
   "cell_type": "code",
   "execution_count": 25,
   "metadata": {},
   "outputs": [
    {
     "data": {
      "text/plain": [
       "18271"
      ]
     },
     "execution_count": 25,
     "metadata": {},
     "output_type": "execute_result"
    }
   ],
   "source": [
    "len(trainvocab)"
   ]
  },
  {
   "cell_type": "code",
   "execution_count": 26,
   "metadata": {},
   "outputs": [
    {
     "data": {
      "text/plain": [
       "7491"
      ]
     },
     "execution_count": 26,
     "metadata": {},
     "output_type": "execute_result"
    }
   ],
   "source": [
    "len(testvocab)"
   ]
  },
  {
   "cell_type": "code",
   "execution_count": 27,
   "metadata": {},
   "outputs": [
    {
     "data": {
      "text/plain": [
       "4717"
      ]
     },
     "execution_count": 27,
     "metadata": {},
     "output_type": "execute_result"
    }
   ],
   "source": [
    "len(devvocab)"
   ]
  },
  {
   "cell_type": "code",
   "execution_count": 28,
   "metadata": {},
   "outputs": [],
   "source": [
    "vocab = set.union(set(trainvocab),set(testvocab),set(devvocab))"
   ]
  },
  {
   "cell_type": "code",
   "execution_count": 29,
   "metadata": {},
   "outputs": [],
   "source": [
    "with open('../counter-sent-generation3/TEXAR/examples/text_style_transfer/data/SST/vocab','w') as f:\n",
    "    for x in vocab:\n",
    "        f.write(x+'\\n')"
   ]
  },
  {
   "cell_type": "code",
   "execution_count": 30,
   "metadata": {},
   "outputs": [
    {
     "data": {
      "text/plain": [
       "18271"
      ]
     },
     "execution_count": 30,
     "metadata": {},
     "output_type": "execute_result"
    }
   ],
   "source": [
    "len(vocab)"
   ]
  },
  {
   "cell_type": "code",
   "execution_count": null,
   "metadata": {},
   "outputs": [],
   "source": []
  }
 ],
 "metadata": {
  "kernelspec": {
   "display_name": "Python 3",
   "language": "python",
   "name": "python3"
  },
  "language_info": {
   "codemirror_mode": {
    "name": "ipython",
    "version": 3
   },
   "file_extension": ".py",
   "mimetype": "text/x-python",
   "name": "python",
   "nbconvert_exporter": "python",
   "pygments_lexer": "ipython3",
   "version": "3.6.6"
  }
 },
 "nbformat": 4,
 "nbformat_minor": 2
}
